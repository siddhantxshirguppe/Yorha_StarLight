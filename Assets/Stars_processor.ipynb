{
 "cells": [
  {
   "cell_type": "code",
   "execution_count": 1,
   "id": "4c710772-ffdb-4266-ae18-57900fc5c981",
   "metadata": {},
   "outputs": [],
   "source": [
    "import pandas as pd"
   ]
  },
  {
   "cell_type": "code",
   "execution_count": 2,
   "id": "552571ee-eb4b-4cd3-972f-7bf7e4af0ee9",
   "metadata": {},
   "outputs": [
    {
     "name": "stdout",
     "output_type": "stream",
     "text": [
      "             id          tyc          gaia  hyg  hip        hd  hr   gl bayer  \\\n",
      "0             1          NaN           NaN  0.0  NaN       NaN NaN  NaN   NaN   \n",
      "1             2   4669-731-1  2.443095e+18  NaN  NaN  224701.0 NaN  NaN   NaN   \n",
      "2             3      1-381-1           NaN  1.0  1.0  224700.0 NaN  NaN   NaN   \n",
      "3            14   2259-803-1  2.873721e+18  NaN  NaN       NaN NaN  NaN   NaN   \n",
      "4            21  5841-1155-1  2.341872e+18  2.0  2.0  224690.0 NaN  NaN   NaN   \n",
      "...         ...          ...           ...  ...  ...       ...  ..  ...   ...   \n",
      "330336  2552081    4289-26-1  2.016188e+18  NaN  NaN       NaN NaN  NaN   NaN   \n",
      "330337  2552089  4487-1146-1  2.227799e+18  NaN  NaN  224698.0 NaN  NaN   NaN   \n",
      "330338  2552100   5837-533-1  2.421128e+18  NaN  NaN       NaN NaN  NaN   NaN   \n",
      "330339  2552111  6411-1196-1  2.341838e+18  NaN  NaN  224691.0 NaN  NaN   NaN   \n",
      "330340  2552118  6988-1291-1  2.333400e+18  NaN  NaN  224694.0 NaN  NaN   NaN   \n",
      "\n",
      "        flam  ...      rv rv_src    pm_ra  pm_dec pm_src      vx      vy  \\\n",
      "0        NaN  ...     NaN  OTHER      NaN     NaN  OTHER     NaN     NaN   \n",
      "1        NaN  ... -17.371   G_R3   22.498 -11.301   G_R3 -19.904  54.306   \n",
      "2        NaN  ...     NaN      N   -5.200  -1.880    HYG   0.037  -5.418   \n",
      "3        NaN  ...  38.654   G_R3    9.265  -4.880   G_R3  42.830  35.891   \n",
      "4        NaN  ...   6.830   G_R3  179.805  -1.041   G_R3   6.375  31.807   \n",
      "...      ...  ...     ...    ...      ...     ...    ...     ...     ...   \n",
      "330336   NaN  ...     NaN      N   -3.681  -1.464   G_R3  18.272 -51.160   \n",
      "330337   NaN  ... -17.416   G_R3  -13.393 -15.211   G_R3  15.289 -18.917   \n",
      "330338   NaN  ...  28.259   G_R3   -5.140 -15.644   G_R3  24.590  -4.339   \n",
      "330339   NaN  ...  24.555   G_R3   70.164 -10.383   G_R3  19.501  70.668   \n",
      "330340   NaN  ...  -9.043   G_R3   19.219   1.469   G_R3  -5.918  58.495   \n",
      "\n",
      "            vz   spect spect_src  \n",
      "0          NaN    G2 V     OTHER  \n",
      "1      -25.490   G8 IV         T  \n",
      "2       -1.958    F3 V         T  \n",
      "3        4.105      K2         T  \n",
      "4       -2.454    K3 V         T  \n",
      "...        ...     ...       ...  \n",
      "330336  -8.919    A1IA         T  \n",
      "330337 -23.038      K0         T  \n",
      "330338 -19.176      F5         T  \n",
      "330339 -18.238   G8 IV         T  \n",
      "330340   8.161  K2 III         T  \n",
      "\n",
      "[330341 rows x 34 columns]\n"
     ]
    }
   ],
   "source": [
    "df = pd.read_csv(\"athyg_31_reduced_m10.csv\")\n",
    "print(df)"
   ]
  },
  {
   "cell_type": "code",
   "execution_count": 6,
   "id": "95195ddb-b95c-4b8b-80a6-233d46344a04",
   "metadata": {},
   "outputs": [
    {
     "name": "stdout",
     "output_type": "stream",
     "text": [
      "             id  hip       dist           x0     y0        z0  absmag     mag  \\\n",
      "0             1  NaN     0.0000     0.000005  0.000     0.000   4.850 -26.700   \n",
      "1             2  NaN   509.1956   506.856000  0.003   -48.754   0.705   9.239   \n",
      "2             3  1.0   219.7802   219.741000  0.003     4.177   2.390   9.100   \n",
      "3            14  NaN   817.1342   696.482000  0.041   427.341  -0.548   9.013   \n",
      "4            21  2.0    37.3164    35.176000  0.003   -12.456   6.411   9.270   \n",
      "...         ...  ...        ...          ...    ...       ...     ...     ...   \n",
      "330336  2552081  NaN  2931.5317  1284.928000 -0.424  2634.926  -2.594   9.741   \n",
      "330337  2552089  NaN   297.8780    88.998000 -0.027   284.272   0.791   8.161   \n",
      "330338  2552100  NaN   177.7927   173.282000 -0.047   -39.793   3.528   9.778   \n",
      "330339  2552111  NaN   212.4770   199.617000 -0.042   -72.797   2.917   9.554   \n",
      "330340  2552118  NaN   642.0524   568.439000 -0.101  -298.509   0.126   9.164   \n",
      "\n",
      "            vx      vy      vz   spect  \n",
      "0          NaN     NaN     NaN    G2 V  \n",
      "1      -19.904  54.306 -25.490   G8 IV  \n",
      "2        0.037  -5.418  -1.958    F3 V  \n",
      "3       42.830  35.891   4.105      K2  \n",
      "4        6.375  31.807  -2.454    K3 V  \n",
      "...        ...     ...     ...     ...  \n",
      "330336  18.272 -51.160  -8.919    A1IA  \n",
      "330337  15.289 -18.917 -23.038      K0  \n",
      "330338  24.590  -4.339 -19.176      F5  \n",
      "330339  19.501  70.668 -18.238   G8 IV  \n",
      "330340  -5.918  58.495   8.161  K2 III  \n",
      "\n",
      "[330341 rows x 12 columns]\n"
     ]
    }
   ],
   "source": [
    "columns_to_keep = ['id','hip', 'dist', 'x0', 'y0', 'z0', 'absmag', 'mag', 'vx', 'vy', 'vz', 'spect']\n",
    "df = df[columns_to_keep]\n",
    "\n",
    "print(df)"
   ]
  },
  {
   "cell_type": "code",
   "execution_count": 20,
   "id": "bac96f44-5218-4a23-a4cd-b179139c9502",
   "metadata": {},
   "outputs": [],
   "source": [
    "nan_check_columns = ['x0', 'y0', 'z0', 'vx', 'vy', 'vz', 'spect']\n",
    "\n",
    "# Check if any NaN values exist in the specified columns\n",
    "rows_with_nan = df[nan_check_columns].isna().any(axis=1)\n",
    "\n",
    "# Display rows with NaN values (if any)\n",
    "df_rows_with_nan = df[rows_with_nan]\n",
    "\n",
    "df['hip'].fillna(0, inplace=True)\n",
    "\n"
   ]
  },
  {
   "cell_type": "code",
   "execution_count": 21,
   "id": "5ae1e17c-357d-42fa-afe4-404be7d90032",
   "metadata": {},
   "outputs": [],
   "source": [
    "# Remove rows with NaN values in specific columns\n",
    "df = df.dropna(subset=nan_check_columns)\n",
    "df['spect'] = df['spect'].str[0]\n",
    "valid_spectral_classes = ['O', 'B', 'A', 'F', 'G', 'K', 'M']\n",
    "\n",
    "# Remove rows with invalid 'spect' values\n",
    "df = df[df['spect'].isin(valid_spectral_classes)]"
   ]
  },
  {
   "cell_type": "code",
   "execution_count": 22,
   "id": "2f383557-6954-4fe5-83ea-4a77c2c7a367",
   "metadata": {},
   "outputs": [
    {
     "name": "stdout",
     "output_type": "stream",
     "text": [
      "Number of rows where 'hip' is NaN: 0\n"
     ]
    }
   ],
   "source": [
    "nan_hip_count = df['hip'].isna().sum()\n",
    "\n",
    "# Display the count\n",
    "print(f\"Number of rows where 'hip' is NaN: {nan_hip_count}\")"
   ]
  },
  {
   "cell_type": "code",
   "execution_count": 23,
   "id": "6d39d04b-84a1-47c8-b9d1-1275cad26091",
   "metadata": {},
   "outputs": [
    {
     "name": "stdout",
     "output_type": "stream",
     "text": [
      "DataFrame has been exported to: processed_STAR_31_m10.csv\n"
     ]
    }
   ],
   "source": [
    "# Specify the path where you want to save the CSV file\n",
    "csv_file_path = 'processed_STAR_31_m10.csv'\n",
    "\n",
    "# Export the DataFrame to a CSV file\n",
    "df.to_csv(csv_file_path, index=False)\n",
    "\n",
    "# Display a message indicating the export is successful\n",
    "print(f'DataFrame has been exported to: {csv_file_path}')"
   ]
  },
  {
   "cell_type": "code",
   "execution_count": null,
   "id": "1a31edeb-b79d-436b-901a-77a2a646e159",
   "metadata": {},
   "outputs": [],
   "source": []
  }
 ],
 "metadata": {
  "kernelspec": {
   "display_name": "Python 3 (ipykernel)",
   "language": "python",
   "name": "python3"
  },
  "language_info": {
   "codemirror_mode": {
    "name": "ipython",
    "version": 3
   },
   "file_extension": ".py",
   "mimetype": "text/x-python",
   "name": "python",
   "nbconvert_exporter": "python",
   "pygments_lexer": "ipython3",
   "version": "3.11.7"
  }
 },
 "nbformat": 4,
 "nbformat_minor": 5
}
